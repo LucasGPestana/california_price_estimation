{
 "cells": [
  {
   "cell_type": "code",
   "execution_count": 1,
   "id": "5ef0bbb6",
   "metadata": {},
   "outputs": [],
   "source": [
    "# Importações\n",
    "\n",
    "import matplotlib.pyplot as plt\n",
    "import pandas as pd\n",
    "import seaborn as sns\n",
    "import geopandas as gpd\n",
    "from shapely.geometry import Point\n",
    "import folium\n",
    "\n",
    "\n",
    "import json\n",
    "\n",
    "\n",
    "\n",
    "from src.config import CLEANED_PATH, GEO_CALIFORNIA_ORIGINAL_DIR, AGG_COUNTIES_DIR"
   ]
  },
  {
   "cell_type": "code",
   "execution_count": 2,
   "id": "068f5c8a",
   "metadata": {},
   "outputs": [],
   "source": [
    "# Definição do tema do seaborn\n",
    "sns.set_theme(\n",
    "    style=\"white\",\n",
    "    palette=\"bright\"\n",
    ")"
   ]
  },
  {
   "cell_type": "code",
   "execution_count": null,
   "id": "bc10e785",
   "metadata": {},
   "outputs": [],
   "source": [
    "# Obtendo a base de dados\n",
    "df = pd.read_parquet(CLEANED_PATH)\n",
    "\n",
    "df.head()"
   ]
  },
  {
   "cell_type": "code",
   "execution_count": null,
   "id": "5359a8ec",
   "metadata": {},
   "outputs": [],
   "source": [
    "# Resumo da base\n",
    "df.info()"
   ]
  },
  {
   "cell_type": "code",
   "execution_count": null,
   "id": "0b6bc928",
   "metadata": {},
   "outputs": [],
   "source": [
    "# Resumo estatístico da base\n",
    "df.describe()"
   ]
  },
  {
   "cell_type": "code",
   "execution_count": null,
   "id": "37d0ccd1",
   "metadata": {},
   "outputs": [],
   "source": [
    "# Verificando o comportamento e a concentração do par longitude e latitude\n",
    "\n",
    "sns.jointplot(\n",
    "    data=df, \n",
    "    x=\"longitude\", \n",
    "    y=\"latitude\",\n",
    "    alpha=0.5\n",
    ")\n",
    "\n",
    "plt.show()"
   ]
  },
  {
   "cell_type": "code",
   "execution_count": null,
   "id": "6a8c2c73",
   "metadata": {},
   "outputs": [],
   "source": [
    "# Verificando o comportamento do par longitude e latitude, para cada categoria de \"ocean_proximity\"\n",
    "\n",
    "fig, ax = plt.subplots()\n",
    "\n",
    "sns.scatterplot(\n",
    "    data=df, \n",
    "    x=\"longitude\", \n",
    "    y=\"latitude\",\n",
    "    hue=\"ocean_proximity\",\n",
    "    alpha=0.15,\n",
    "    ax=ax\n",
    ")\n",
    "\n",
    "plt.show()"
   ]
  },
  {
   "cell_type": "code",
   "execution_count": null,
   "id": "4d5a47e3",
   "metadata": {},
   "outputs": [],
   "source": [
    "# Verificando o comportamento do par longitude e latitude, para cada categoria de \"median_income_cat\"\n",
    "\n",
    "fig, ax = plt.subplots()\n",
    "\n",
    "sns.scatterplot(\n",
    "    data=df, \n",
    "    x=\"longitude\", \n",
    "    y=\"latitude\",\n",
    "    hue=\"median_income_cat\",\n",
    "    ax=ax,\n",
    "    palette=\"coolwarm\"\n",
    ")\n",
    "\n",
    "plt.show()"
   ]
  },
  {
   "cell_type": "code",
   "execution_count": null,
   "id": "14e3161d",
   "metadata": {},
   "outputs": [],
   "source": [
    "# Verificando o comportamento do par longitude e latitude, para cada categoria de \"housing_median_age_cat\"\n",
    "\n",
    "fig, ax = plt.subplots()\n",
    "\n",
    "sns.scatterplot(\n",
    "    data=df, \n",
    "    x=\"longitude\", \n",
    "    y=\"latitude\",\n",
    "    hue=\"housing_median_age_cat\",\n",
    "    ax=ax,\n",
    "    palette=\"coolwarm\"\n",
    ")\n",
    "\n",
    "plt.show()"
   ]
  },
  {
   "cell_type": "code",
   "execution_count": null,
   "id": "8cbd2e48",
   "metadata": {},
   "outputs": [],
   "source": [
    "# Verificando o comportamento do par longitude e latitude, para a coluna alvo\n",
    "\n",
    "norm_median_house_value = plt.Normalize(\n",
    "    vmin=df[\"median_house_value\"].min(), \n",
    "    vmax=df[\"median_house_value\"].max()\n",
    "    )\n",
    "sm_median_house_value = plt.cm.ScalarMappable(\n",
    "    norm=norm_median_house_value,\n",
    "    cmap=\"coolwarm\"\n",
    "    )\n",
    "\n",
    "fig, ax = plt.subplots()\n",
    "\n",
    "sns.scatterplot(\n",
    "    data=df, \n",
    "    x=\"longitude\", \n",
    "    y=\"latitude\",\n",
    "    hue=\"median_house_value\",\n",
    "    ax=ax,\n",
    "    palette=\"coolwarm\"\n",
    ")\n",
    "\n",
    "ax.get_legend().remove()\n",
    "\n",
    "fig.colorbar(mappable=sm_median_house_value, ax=ax)\n",
    "\n",
    "plt.show()"
   ]
  },
  {
   "cell_type": "code",
   "execution_count": null,
   "id": "5effaf51",
   "metadata": {},
   "outputs": [],
   "source": [
    "# Obtendo os dados dos condados\n",
    "gdf_counties = gpd.read_file(GEO_CALIFORNIA_ORIGINAL_DIR)\n",
    "gdf_counties.head()"
   ]
  },
  {
   "cell_type": "code",
   "execution_count": null,
   "id": "4d1affbc",
   "metadata": {},
   "outputs": [],
   "source": [
    "# Resumo da base\n",
    "gdf_counties.info()"
   ]
  },
  {
   "cell_type": "code",
   "execution_count": 13,
   "id": "bcc14ee3",
   "metadata": {},
   "outputs": [],
   "source": [
    "# Removendo as colunas desnecessárias\n",
    "gdf_counties = gdf_counties.drop(\n",
    "    [\n",
    "        \"cartodb_id\", \n",
    "        \"created_at\", \n",
    "        \"updated_at\"\n",
    "        ], axis=1)"
   ]
  },
  {
   "cell_type": "code",
   "execution_count": null,
   "id": "27eefd20",
   "metadata": {},
   "outputs": [],
   "source": [
    "# Gerando dados geométricos da base de grupos censitários\n",
    "points = [\n",
    "    Point(lon, lat) for lon, lat in zip(\n",
    "        df[\"longitude\"].values, \n",
    "        df[\"latitude\"].values\n",
    "        )\n",
    "        ]\n",
    "points[:20]"
   ]
  },
  {
   "cell_type": "code",
   "execution_count": null,
   "id": "06999596",
   "metadata": {},
   "outputs": [],
   "source": [
    "# Obtendo os dados dos grupos censitários por geodataframe\n",
    "gdf = gpd.GeoDataFrame(df, geometry=points)\n",
    "gdf.head()"
   ]
  },
  {
   "cell_type": "code",
   "execution_count": null,
   "id": "b2c2d936",
   "metadata": {},
   "outputs": [],
   "source": [
    "# Verificando o sistema de referencia de coordenada das bases\n",
    "print(gdf.crs)\n",
    "print(gdf_counties.crs)"
   ]
  },
  {
   "cell_type": "code",
   "execution_count": null,
   "id": "b7d2b64d",
   "metadata": {},
   "outputs": [],
   "source": [
    "# Convertendo a base de grupos censitários para o CRS da base dos condados\n",
    "gdf = gdf.set_crs(epsg=4326)\n",
    "gdf.crs"
   ]
  },
  {
   "cell_type": "code",
   "execution_count": null,
   "id": "963e3d88",
   "metadata": {},
   "outputs": [],
   "source": [
    "# Juntando os objetos que pertencem a um dado condado\n",
    "gdf_joined = gpd.sjoin(\n",
    "    gdf, gdf_counties, \n",
    "    how=\"left\", \n",
    "    predicate=\"within\"\n",
    "    )\n",
    "gdf_joined.head()"
   ]
  },
  {
   "cell_type": "code",
   "execution_count": 19,
   "id": "a8f7ada2",
   "metadata": {},
   "outputs": [],
   "source": [
    "# Removendo a coluna \"index_right\" da base juntada\n",
    "gdf_joined = gdf_joined.drop(\"index_right\", axis=1)"
   ]
  },
  {
   "cell_type": "code",
   "execution_count": null,
   "id": "4857d657",
   "metadata": {},
   "outputs": [],
   "source": [
    "# Resumo da base\n",
    "gdf_joined.info()"
   ]
  },
  {
   "cell_type": "code",
   "execution_count": null,
   "id": "7c5d5ab3",
   "metadata": {},
   "outputs": [],
   "source": [
    "# Verificando os registros com valores nulos\n",
    "gdf_joined[gdf_joined.isnull().any(axis=1)]"
   ]
  },
  {
   "cell_type": "markdown",
   "id": "864cfabc",
   "metadata": {},
   "source": [
    "Percebe-se que existem alguns objetos sem condado relacionado. Assim, usaremos uma estratégia de imputação de valores nulos correspondente ao condado mais próximo aquela região. Isso será feito com base no centróide"
   ]
  },
  {
   "cell_type": "code",
   "execution_count": null,
   "id": "fbb76adc",
   "metadata": {},
   "outputs": [],
   "source": [
    "# Gerando uma coluna correspondente ao centróide\n",
    "gdf_counties[\"centroid\"] = gdf_counties[\"geometry\"].centroid"
   ]
  },
  {
   "cell_type": "code",
   "execution_count": null,
   "id": "05630736",
   "metadata": {},
   "outputs": [],
   "source": [
    "def getApproachCounty(data: pd.Series, column: str):\n",
    "\n",
    "    if pd.isna(data[column]):\n",
    "\n",
    "        distances = gdf_counties[\"centroid\"].distance(data[\"geometry\"])\n",
    "        less_distance_idx = distances.idxmin()\n",
    "\n",
    "        return gdf_counties.loc[less_distance_idx][column]\n",
    "\n",
    "    return data[column]\n",
    "\n",
    "\n",
    "for column, _ in filter(lambda x: x != 0, gdf_joined.isnull().sum().items()):\n",
    "\n",
    "    gdf_joined[column] = gdf_joined.apply(lambda x: getApproachCounty(x, column), axis=1)"
   ]
  },
  {
   "cell_type": "code",
   "execution_count": null,
   "id": "f3c7db7a",
   "metadata": {},
   "outputs": [],
   "source": [
    "# Verificando os registros nulos novamente\n",
    "gdf_joined[gdf_joined.isnull().any(axis=1)]"
   ]
  },
  {
   "cell_type": "code",
   "execution_count": null,
   "id": "81e2a53a",
   "metadata": {},
   "outputs": [],
   "source": [
    "# Acessando um grupo censitário especifico que não tinha condado anteriormente\n",
    "gdf_joined.loc[79]"
   ]
  },
  {
   "cell_type": "code",
   "execution_count": null,
   "id": "3b0d228c",
   "metadata": {},
   "outputs": [],
   "source": [
    "# Gerando mapa da califórnia\n",
    "\n",
    "fig, ax = plt.subplots(figsize=(10, 10))\n",
    "\n",
    "gdf_counties.plot(\n",
    "    edgecolor=\"black\",\n",
    "    color=\"gray\",\n",
    "    ax=ax\n",
    ")\n",
    "\n",
    "ax.scatter(\n",
    "    x=gdf_joined[\"longitude\"],\n",
    "    y=gdf_joined[\"latitude\"],\n",
    "    color=\"red\",\n",
    "    s=1,\n",
    "    alpha=0.5\n",
    ")\n",
    "\n",
    "for x, y, name in zip(\n",
    "    gdf_counties[\"centroid\"].x,\n",
    "    gdf_counties[\"centroid\"].y,\n",
    "    gdf_counties[\"name\"]\n",
    "):\n",
    "    \n",
    "    ax.text(x, y, name, fontsize=6, ha=\"center\", va=\"center\")"
   ]
  },
  {
   "cell_type": "code",
   "execution_count": null,
   "id": "b55d5e87",
   "metadata": {},
   "outputs": [],
   "source": [
    "# Agrupando os dados numéricos de cada condado\n",
    "gdf_joined.groupby(\"name\").median(numeric_only=True)"
   ]
  },
  {
   "cell_type": "code",
   "execution_count": null,
   "id": "f454b218",
   "metadata": {},
   "outputs": [],
   "source": [
    "# Juntando os dados numéricos agregados de cada condado com a base de condados\n",
    "\n",
    "gdf_counties = gdf_counties.merge(\n",
    "    gdf_joined.groupby(\"name\").median(numeric_only=True),\n",
    "    left_on=\"name\",\n",
    "    right_index=True\n",
    ")\n",
    "gdf_counties.head()"
   ]
  },
  {
   "cell_type": "code",
   "execution_count": null,
   "id": "c07951c9",
   "metadata": {},
   "outputs": [],
   "source": [
    "# Agrupando os dados categóricos de cada condado\n",
    "gdf_joined[[\"name\", \"ocean_proximity\"]].groupby(\"name\").describe()"
   ]
  },
  {
   "cell_type": "code",
   "execution_count": null,
   "id": "d52d9cbd",
   "metadata": {},
   "outputs": [],
   "source": [
    "# Agrupando a moda de ocean_proximity para cada condado\n",
    "counties_ocean_prox = gdf_joined[[\"name\", \"ocean_proximity\"]].groupby(\"name\").agg(lambda x: x.mode())\n",
    "counties_ocean_prox.head()"
   ]
  },
  {
   "cell_type": "code",
   "execution_count": 31,
   "id": "b56f8996",
   "metadata": {},
   "outputs": [],
   "source": [
    "# Juntando os dados categóricos agregados de cada condado na base de condados\n",
    "gdf_counties = gdf_counties.merge(\n",
    "    counties_ocean_prox,\n",
    "    left_on=\"name\",\n",
    "    right_index=True\n",
    ")"
   ]
  },
  {
   "cell_type": "code",
   "execution_count": null,
   "id": "466d41dd",
   "metadata": {},
   "outputs": [],
   "source": [
    "gdf_counties.head()"
   ]
  },
  {
   "cell_type": "code",
   "execution_count": null,
   "id": "9c31e1ee",
   "metadata": {},
   "outputs": [],
   "source": [
    "# Gerando novo mapa com os dados agregados para cada condado da coluna alvo\n",
    "\n",
    "fig, ax = plt.subplots(figsize=(12, 12))\n",
    "\n",
    "gdf_counties.plot(\n",
    "    edgecolor=\"black\",\n",
    "    column=\"median_house_value\",\n",
    "    cmap=\"coolwarm\",\n",
    "    ax=ax,\n",
    ")\n",
    "\n",
    "norm_agg_median_house_value = plt.Normalize(\n",
    "    vmin=gdf_counties[\"median_house_value\"].min(),\n",
    "    vmax=gdf_counties[\"median_house_value\"].max()\n",
    ")\n",
    "\n",
    "sm_agg_median_house_value = plt.cm.ScalarMappable(\n",
    "    norm=norm_agg_median_house_value,\n",
    "    cmap=\"coolwarm\",\n",
    ")\n",
    "\n",
    "fig.colorbar(\n",
    "    sm_agg_median_house_value, \n",
    "    ax=ax, \n",
    "    label=\"Median House Value\"\n",
    "    )\n",
    "\n",
    "for x, y, name in zip(\n",
    "    gdf_counties[\"centroid\"].x, \n",
    "    gdf_counties[\"centroid\"].y, \n",
    "    gdf_counties[\"name\"]\n",
    "    ):\n",
    "\n",
    "    ax.text(x, y, name, fontsize=6, ha=\"center\", va=\"center\")"
   ]
  },
  {
   "cell_type": "code",
   "execution_count": null,
   "id": "b2c126f3",
   "metadata": {},
   "outputs": [],
   "source": [
    "# Gerando novo mapa com os dados agregados para cada condado da coluna \"median_income\"\n",
    "\n",
    "fig, ax = plt.subplots(figsize=(12, 12))\n",
    "\n",
    "gdf_counties.plot(\n",
    "    edgecolor=\"black\",\n",
    "    column=\"median_income\",\n",
    "    cmap=\"coolwarm\",\n",
    "    ax=ax,\n",
    ")\n",
    "\n",
    "norm_agg_median_income = plt.Normalize(\n",
    "    vmin=gdf_counties[\"median_income\"].min(),\n",
    "    vmax=gdf_counties[\"median_income\"].max()\n",
    ")\n",
    "\n",
    "sm_agg_median_income = plt.cm.ScalarMappable(\n",
    "    norm=norm_agg_median_income,\n",
    "    cmap=\"coolwarm\",\n",
    ")\n",
    "\n",
    "fig.colorbar(\n",
    "    sm_agg_median_income, \n",
    "    ax=ax, \n",
    "    label=\"Median Income\"\n",
    "    )\n",
    "\n",
    "for x, y, name in zip(\n",
    "    gdf_counties[\"centroid\"].x, \n",
    "    gdf_counties[\"centroid\"].y, \n",
    "    gdf_counties[\"name\"]\n",
    "    ):\n",
    "\n",
    "    ax.text(x, y, name, fontsize=6, ha=\"center\", va=\"center\")"
   ]
  },
  {
   "cell_type": "code",
   "execution_count": null,
   "id": "1d31ebf4",
   "metadata": {},
   "outputs": [],
   "source": [
    "# Gerando novo mapa com os dados agregados para cada condado da coluna \"housing_median_age\"\n",
    "\n",
    "fig, ax = plt.subplots(figsize=(12, 12))\n",
    "\n",
    "gdf_counties.plot(\n",
    "    edgecolor=\"black\",\n",
    "    column=\"housing_median_age\",\n",
    "    cmap=\"coolwarm\",\n",
    "    ax=ax,\n",
    ")\n",
    "\n",
    "norm_agg_housing_median_age = plt.Normalize(\n",
    "    vmin=gdf_counties[\"housing_median_age\"].min(),\n",
    "    vmax=gdf_counties[\"housing_median_age\"].max()\n",
    ")\n",
    "\n",
    "sm_agg_housing_median_age = plt.cm.ScalarMappable(\n",
    "    norm=norm_agg_housing_median_age,\n",
    "    cmap=\"coolwarm\",\n",
    ")\n",
    "\n",
    "fig.colorbar(\n",
    "    sm_agg_median_house_value, \n",
    "    ax=ax, \n",
    "    label=\"Housing Median Age\"\n",
    "    )\n",
    "\n",
    "for x, y, name in zip(\n",
    "    gdf_counties[\"centroid\"].x, \n",
    "    gdf_counties[\"centroid\"].y, \n",
    "    gdf_counties[\"name\"]\n",
    "    ):\n",
    "\n",
    "    ax.text(x, y, name, fontsize=6, ha=\"center\", va=\"center\")"
   ]
  },
  {
   "cell_type": "code",
   "execution_count": 36,
   "id": "b213aa0e",
   "metadata": {},
   "outputs": [],
   "source": [
    "# Exportando a base de condados\n",
    "gdf_counties.to_parquet(AGG_COUNTIES_DIR)"
   ]
  },
  {
   "cell_type": "code",
   "execution_count": null,
   "id": "831a0e34",
   "metadata": {},
   "outputs": [],
   "source": [
    "# Gerando mapa interativo\n",
    "\n",
    "import folium.plugins\n",
    "\n",
    "\n",
    "map_center = [\n",
    "    df[\"latitude\"].mean(),\n",
    "    df[\"longitude\"].mean(), \n",
    "    ]\n",
    "\n",
    "map_size_kw = {\n",
    "    \"width\": 500, \n",
    "    \"height\": 500\n",
    "    }\n",
    "\n",
    "fig = folium.Figure(**map_size_kw)\n",
    "\n",
    "map_obj = folium.Map(\n",
    "    location=map_center,\n",
    "    tiles=\"cartodb positron\",\n",
    "    zoom_start=5,\n",
    "    control_scale=True,\n",
    "    ).add_to(parent=fig)\n",
    "\n",
    "# Obtendo conteúdo do geojson\n",
    "with open(GEO_CALIFORNIA_ORIGINAL_DIR, 'r') as fp:\n",
    "\n",
    "    geojson_content = json.load(fp)\n",
    "\n",
    "folium.Choropleth(\n",
    "    geo_data=geojson_content,\n",
    "    data=gdf_counties,\n",
    "    key_on=\"feature.properties.name\",\n",
    "    columns=[\"name\", \"median_house_value\"],\n",
    "    name=\"choropleth\",\n",
    "    legend_name=\"Valor Mediano das Casas\",\n",
    "    fill_color=\"YlGn\",\n",
    "    fill_opacity=0.7,\n",
    "    line_opacity=0.3,\n",
    ").add_to(map_obj)\n",
    "\n",
    "\n",
    "folium.GeoJson(\n",
    "    data=gdf_counties[[\"name\", \"geometry\", \"median_income\", \"median_house_value\"]],\n",
    "    name=\"geojson\",\n",
    "    tooltip=folium.GeoJsonTooltip(\n",
    "        fields=[\"name\", \"median_income\", \"median_house_value\"], \n",
    "        aliases=[\"Condado\", \"Renda Mediana Anual (milhares)\", \"Valor Mediano da Casa\"])\n",
    ").add_to(map_obj)\n",
    "\n",
    "# Controle das camadas do mapa\n",
    "folium.LayerControl().add_to(map_obj)\n",
    "\n",
    "# Popup de latitude e longitude\n",
    "#folium.LatLngPopup().add_to(map_obj)\n",
    "\n",
    "# Plugin que recebe a posição do mouse no mapa (lat e long)\n",
    "folium.plugins.MousePosition().add_to(map_obj)\n",
    "\n",
    "map_obj"
   ]
  }
 ],
 "metadata": {
  "kernelspec": {
   "display_name": "venv",
   "language": "python",
   "name": "python3"
  },
  "language_info": {
   "codemirror_mode": {
    "name": "ipython",
    "version": 3
   },
   "file_extension": ".py",
   "mimetype": "text/x-python",
   "name": "python",
   "nbconvert_exporter": "python",
   "pygments_lexer": "ipython3",
   "version": "3.12.10"
  }
 },
 "nbformat": 4,
 "nbformat_minor": 5
}
